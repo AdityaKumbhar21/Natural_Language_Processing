{
  "nbformat": 4,
  "nbformat_minor": 0,
  "metadata": {
    "colab": {
      "provenance": [],
      "authorship_tag": "ABX9TyNuo0+HIf3gRrlleevZaCqz",
      "include_colab_link": true
    },
    "kernelspec": {
      "name": "python3",
      "display_name": "Python 3"
    },
    "language_info": {
      "name": "python"
    }
  },
  "cells": [
    {
      "cell_type": "markdown",
      "metadata": {
        "id": "view-in-github",
        "colab_type": "text"
      },
      "source": [
        "<a href=\"https://colab.research.google.com/github/AdityaKumbhar21/Natural_Language_Processing/blob/main/NLP.ipynb\" target=\"_parent\"><img src=\"https://colab.research.google.com/assets/colab-badge.svg\" alt=\"Open In Colab\"/></a>"
      ]
    },
    {
      "cell_type": "markdown",
      "source": [
        "### Implementing the text preprocessing"
      ],
      "metadata": {
        "id": "P9vmALWKNIs3"
      }
    },
    {
      "cell_type": "code",
      "execution_count": 60,
      "metadata": {
        "colab": {
          "base_uri": "https://localhost:8080/"
        },
        "id": "pMeMxPLyNGoW",
        "outputId": "26bbade3-8833-4e51-e5c6-75fad7472e3c"
      },
      "outputs": [
        {
          "output_type": "stream",
          "name": "stdout",
          "text": [
            "Requirement already satisfied: nltk in /usr/local/lib/python3.11/dist-packages (3.9.1)\n",
            "Requirement already satisfied: click in /usr/local/lib/python3.11/dist-packages (from nltk) (8.2.1)\n",
            "Requirement already satisfied: joblib in /usr/local/lib/python3.11/dist-packages (from nltk) (1.5.1)\n",
            "Requirement already satisfied: regex>=2021.8.3 in /usr/local/lib/python3.11/dist-packages (from nltk) (2024.11.6)\n",
            "Requirement already satisfied: tqdm in /usr/local/lib/python3.11/dist-packages (from nltk) (4.67.1)\n"
          ]
        }
      ],
      "source": [
        "!pip install nltk"
      ]
    },
    {
      "cell_type": "code",
      "source": [
        "paragraph = \"\"\"\n",
        "Elon Reeve Musk FRS (/ˈiːlɒn/ EE-lon; born June 28, 1971) is a businessman. He is known for his leadership of Tesla, SpaceX, X (formerly Twitter), and the Department of Government Efficiency (DOGE). Musk has been considered the wealthiest person in the world since 2021; as of May 2025, Forbes estimates his net worth to be US$424.7 billion.\n",
        "\n",
        "Born to a wealthy family in Pretoria, South Africa, Musk emigrated in 1989 to Canada. He received bachelor's degrees from the University of Pennsylvania in 1997 before moving to California, United States, to pursue business ventures. In 1995, Musk co-founded the software company Zip2. Following its sale in 1999, he co-founded X.com, an online payment company that later merged to form PayPal, which was acquired by eBay in 2002. That year, Musk also became an American citizen.\n",
        "\"\"\""
      ],
      "metadata": {
        "id": "NhLmKkkUNUg7"
      },
      "execution_count": 61,
      "outputs": []
    },
    {
      "cell_type": "code",
      "source": [
        "import nltk\n",
        "from nltk.tokenize import sent_tokenize\n",
        "from nltk.stem import PorterStemmer # Stemming library\n",
        "from nltk.stem import WordNetLemmatizer # Lemmatizing\n",
        "from nltk.corpus import stopwords # stopwards"
      ],
      "metadata": {
        "id": "boobQ2Y_NlLa"
      },
      "execution_count": 62,
      "outputs": []
    },
    {
      "cell_type": "code",
      "source": [
        "nltk.download('punkt_tab')"
      ],
      "metadata": {
        "colab": {
          "base_uri": "https://localhost:8080/"
        },
        "id": "76a40JPCPLzL",
        "outputId": "2becdcb1-5995-45cf-d7e7-9929b3f11dde"
      },
      "execution_count": 63,
      "outputs": [
        {
          "output_type": "stream",
          "name": "stderr",
          "text": [
            "[nltk_data] Downloading package punkt_tab to /root/nltk_data...\n",
            "[nltk_data]   Package punkt_tab is already up-to-date!\n"
          ]
        },
        {
          "output_type": "execute_result",
          "data": {
            "text/plain": [
              "True"
            ]
          },
          "metadata": {},
          "execution_count": 63
        }
      ]
    },
    {
      "cell_type": "code",
      "source": [
        "# tokenization\n",
        "sentences = nltk.sent_tokenize(paragraph)\n",
        "sentences"
      ],
      "metadata": {
        "colab": {
          "base_uri": "https://localhost:8080/"
        },
        "id": "P5mEMWArNmAk",
        "outputId": "73d30e01-8eea-4b87-c84b-8a37ee526c81"
      },
      "execution_count": 64,
      "outputs": [
        {
          "output_type": "execute_result",
          "data": {
            "text/plain": [
              "['\\nElon Reeve Musk FRS (/ˈiːlɒn/ EE-lon; born June 28, 1971) is a businessman.',\n",
              " 'He is known for his leadership of Tesla, SpaceX, X (formerly Twitter), and the Department of Government Efficiency (DOGE).',\n",
              " 'Musk has been considered the wealthiest person in the world since 2021; as of May 2025, Forbes estimates his net worth to be US$424.7 billion.',\n",
              " 'Born to a wealthy family in Pretoria, South Africa, Musk emigrated in 1989 to Canada.',\n",
              " \"He received bachelor's degrees from the University of Pennsylvania in 1997 before moving to California, United States, to pursue business ventures.\",\n",
              " 'In 1995, Musk co-founded the software company Zip2.',\n",
              " 'Following its sale in 1999, he co-founded X.com, an online payment company that later merged to form PayPal, which was acquired by eBay in 2002.',\n",
              " 'That year, Musk also became an American citizen.']"
            ]
          },
          "metadata": {},
          "execution_count": 64
        }
      ]
    },
    {
      "cell_type": "code",
      "source": [
        "# stemming\n",
        "stemmer = PorterStemmer()\n",
        "stemmer.stem('thinking')"
      ],
      "metadata": {
        "colab": {
          "base_uri": "https://localhost:8080/",
          "height": 35
        },
        "id": "ZgDuL-5ZOvj0",
        "outputId": "6fe8bf85-ff23-4463-c41f-0ca34ec9e02f"
      },
      "execution_count": 65,
      "outputs": [
        {
          "output_type": "execute_result",
          "data": {
            "text/plain": [
              "'think'"
            ],
            "application/vnd.google.colaboratory.intrinsic+json": {
              "type": "string"
            }
          },
          "metadata": {},
          "execution_count": 65
        }
      ]
    },
    {
      "cell_type": "code",
      "source": [
        "# lemmatization\n",
        "nltk.download('wordnet')\n",
        "lemmatizer = WordNetLemmatizer()\n",
        "lemmatizer.lemmatize('facial')"
      ],
      "metadata": {
        "colab": {
          "base_uri": "https://localhost:8080/",
          "height": 71
        },
        "id": "icqPQmpaPiic",
        "outputId": "fe1e07d3-efb3-44f1-a6c2-1602c15c293c"
      },
      "execution_count": 66,
      "outputs": [
        {
          "output_type": "stream",
          "name": "stderr",
          "text": [
            "[nltk_data] Downloading package wordnet to /root/nltk_data...\n",
            "[nltk_data]   Package wordnet is already up-to-date!\n"
          ]
        },
        {
          "output_type": "execute_result",
          "data": {
            "text/plain": [
              "'facial'"
            ],
            "application/vnd.google.colaboratory.intrinsic+json": {
              "type": "string"
            }
          },
          "metadata": {},
          "execution_count": 66
        }
      ]
    },
    {
      "cell_type": "code",
      "source": [
        "# cleaning the text -> removing special chars\n",
        "import re\n",
        "\n",
        "corpus = []\n",
        "for i in range(len(sentences)):\n",
        "  cleaned_text = re.sub('[^a-zA-Z]', ' ', sentences[i])\n",
        "  cleaned_text = cleaned_text.lower()\n",
        "  corpus.append(cleaned_text)"
      ],
      "metadata": {
        "id": "g8d6J8YoP3if"
      },
      "execution_count": 67,
      "outputs": []
    },
    {
      "cell_type": "code",
      "source": [
        "corpus"
      ],
      "metadata": {
        "colab": {
          "base_uri": "https://localhost:8080/"
        },
        "id": "9O8diVDsQ6tP",
        "outputId": "bdd4604d-7114-4b32-c4c8-15e1165f47a3"
      },
      "execution_count": 68,
      "outputs": [
        {
          "output_type": "execute_result",
          "data": {
            "text/plain": [
              "[' elon reeve musk frs    i l n  ee lon  born june           is a businessman ',\n",
              " 'he is known for his leadership of tesla  spacex  x  formerly twitter   and the department of government efficiency  doge  ',\n",
              " 'musk has been considered the wealthiest person in the world since       as of may       forbes estimates his net worth to be us       billion ',\n",
              " 'born to a wealthy family in pretoria  south africa  musk emigrated in      to canada ',\n",
              " 'he received bachelor s degrees from the university of pennsylvania in      before moving to california  united states  to pursue business ventures ',\n",
              " 'in       musk co founded the software company zip  ',\n",
              " 'following its sale in       he co founded x com  an online payment company that later merged to form paypal  which was acquired by ebay in      ',\n",
              " 'that year  musk also became an american citizen ']"
            ]
          },
          "metadata": {},
          "execution_count": 68
        }
      ]
    },
    {
      "cell_type": "code",
      "source": [
        "nltk.download('stopwords')\n",
        "stopwords.words('english') # this are all stopwords w.r.t englis"
      ],
      "metadata": {
        "colab": {
          "base_uri": "https://localhost:8080/"
        },
        "id": "cG37zGNVRBF2",
        "outputId": "057d7dd7-1afd-4b21-dddf-9d09fa3a20a3"
      },
      "execution_count": 69,
      "outputs": [
        {
          "output_type": "stream",
          "name": "stderr",
          "text": [
            "[nltk_data] Downloading package stopwords to /root/nltk_data...\n",
            "[nltk_data]   Package stopwords is already up-to-date!\n"
          ]
        },
        {
          "output_type": "execute_result",
          "data": {
            "text/plain": [
              "['a',\n",
              " 'about',\n",
              " 'above',\n",
              " 'after',\n",
              " 'again',\n",
              " 'against',\n",
              " 'ain',\n",
              " 'all',\n",
              " 'am',\n",
              " 'an',\n",
              " 'and',\n",
              " 'any',\n",
              " 'are',\n",
              " 'aren',\n",
              " \"aren't\",\n",
              " 'as',\n",
              " 'at',\n",
              " 'be',\n",
              " 'because',\n",
              " 'been',\n",
              " 'before',\n",
              " 'being',\n",
              " 'below',\n",
              " 'between',\n",
              " 'both',\n",
              " 'but',\n",
              " 'by',\n",
              " 'can',\n",
              " 'couldn',\n",
              " \"couldn't\",\n",
              " 'd',\n",
              " 'did',\n",
              " 'didn',\n",
              " \"didn't\",\n",
              " 'do',\n",
              " 'does',\n",
              " 'doesn',\n",
              " \"doesn't\",\n",
              " 'doing',\n",
              " 'don',\n",
              " \"don't\",\n",
              " 'down',\n",
              " 'during',\n",
              " 'each',\n",
              " 'few',\n",
              " 'for',\n",
              " 'from',\n",
              " 'further',\n",
              " 'had',\n",
              " 'hadn',\n",
              " \"hadn't\",\n",
              " 'has',\n",
              " 'hasn',\n",
              " \"hasn't\",\n",
              " 'have',\n",
              " 'haven',\n",
              " \"haven't\",\n",
              " 'having',\n",
              " 'he',\n",
              " \"he'd\",\n",
              " \"he'll\",\n",
              " 'her',\n",
              " 'here',\n",
              " 'hers',\n",
              " 'herself',\n",
              " \"he's\",\n",
              " 'him',\n",
              " 'himself',\n",
              " 'his',\n",
              " 'how',\n",
              " 'i',\n",
              " \"i'd\",\n",
              " 'if',\n",
              " \"i'll\",\n",
              " \"i'm\",\n",
              " 'in',\n",
              " 'into',\n",
              " 'is',\n",
              " 'isn',\n",
              " \"isn't\",\n",
              " 'it',\n",
              " \"it'd\",\n",
              " \"it'll\",\n",
              " \"it's\",\n",
              " 'its',\n",
              " 'itself',\n",
              " \"i've\",\n",
              " 'just',\n",
              " 'll',\n",
              " 'm',\n",
              " 'ma',\n",
              " 'me',\n",
              " 'mightn',\n",
              " \"mightn't\",\n",
              " 'more',\n",
              " 'most',\n",
              " 'mustn',\n",
              " \"mustn't\",\n",
              " 'my',\n",
              " 'myself',\n",
              " 'needn',\n",
              " \"needn't\",\n",
              " 'no',\n",
              " 'nor',\n",
              " 'not',\n",
              " 'now',\n",
              " 'o',\n",
              " 'of',\n",
              " 'off',\n",
              " 'on',\n",
              " 'once',\n",
              " 'only',\n",
              " 'or',\n",
              " 'other',\n",
              " 'our',\n",
              " 'ours',\n",
              " 'ourselves',\n",
              " 'out',\n",
              " 'over',\n",
              " 'own',\n",
              " 're',\n",
              " 's',\n",
              " 'same',\n",
              " 'shan',\n",
              " \"shan't\",\n",
              " 'she',\n",
              " \"she'd\",\n",
              " \"she'll\",\n",
              " \"she's\",\n",
              " 'should',\n",
              " 'shouldn',\n",
              " \"shouldn't\",\n",
              " \"should've\",\n",
              " 'so',\n",
              " 'some',\n",
              " 'such',\n",
              " 't',\n",
              " 'than',\n",
              " 'that',\n",
              " \"that'll\",\n",
              " 'the',\n",
              " 'their',\n",
              " 'theirs',\n",
              " 'them',\n",
              " 'themselves',\n",
              " 'then',\n",
              " 'there',\n",
              " 'these',\n",
              " 'they',\n",
              " \"they'd\",\n",
              " \"they'll\",\n",
              " \"they're\",\n",
              " \"they've\",\n",
              " 'this',\n",
              " 'those',\n",
              " 'through',\n",
              " 'to',\n",
              " 'too',\n",
              " 'under',\n",
              " 'until',\n",
              " 'up',\n",
              " 've',\n",
              " 'very',\n",
              " 'was',\n",
              " 'wasn',\n",
              " \"wasn't\",\n",
              " 'we',\n",
              " \"we'd\",\n",
              " \"we'll\",\n",
              " \"we're\",\n",
              " 'were',\n",
              " 'weren',\n",
              " \"weren't\",\n",
              " \"we've\",\n",
              " 'what',\n",
              " 'when',\n",
              " 'where',\n",
              " 'which',\n",
              " 'while',\n",
              " 'who',\n",
              " 'whom',\n",
              " 'why',\n",
              " 'will',\n",
              " 'with',\n",
              " 'won',\n",
              " \"won't\",\n",
              " 'wouldn',\n",
              " \"wouldn't\",\n",
              " 'y',\n",
              " 'you',\n",
              " \"you'd\",\n",
              " \"you'll\",\n",
              " 'your',\n",
              " \"you're\",\n",
              " 'yours',\n",
              " 'yourself',\n",
              " 'yourselves',\n",
              " \"you've\"]"
            ]
          },
          "metadata": {},
          "execution_count": 69
        }
      ]
    },
    {
      "cell_type": "code",
      "source": [
        "# applying tokeniation, stopwords and lemmatization on corpus\n",
        "\n",
        "corpus_f = []\n",
        "\n",
        "for i in range(len(sentences)):\n",
        "    review = re.sub('[^a-zA-Z]', ' ', sentences[i])  # Fix typo: 'A-z' to 'A-Z'\n",
        "    review = review.lower()\n",
        "    review = review.split()\n",
        "    review = [lemmatizer.lemmatize(word) for word in review if word not in set(stopwords.words('english'))]\n",
        "    review = ' '.join(review)\n",
        "    corpus_f.append(review)\n",
        ""
      ],
      "metadata": {
        "id": "nY-_keFyRdg5"
      },
      "execution_count": 70,
      "outputs": []
    },
    {
      "cell_type": "code",
      "source": [
        "corpus_f"
      ],
      "metadata": {
        "colab": {
          "base_uri": "https://localhost:8080/"
        },
        "id": "VLBpSJvakeCD",
        "outputId": "571e3de8-0795-4827-98e8-d5e21ac5b7e6"
      },
      "execution_count": 71,
      "outputs": [
        {
          "output_type": "execute_result",
          "data": {
            "text/plain": [
              "['elon reeve musk fr l n ee lon born june businessman',\n",
              " 'known leadership tesla spacex x formerly twitter department government efficiency doge',\n",
              " 'musk considered wealthiest person world since may forbes estimate net worth u billion',\n",
              " 'born wealthy family pretoria south africa musk emigrated canada',\n",
              " 'received bachelor degree university pennsylvania moving california united state pursue business venture',\n",
              " 'musk co founded software company zip',\n",
              " 'following sale co founded x com online payment company later merged form paypal acquired ebay',\n",
              " 'year musk also became american citizen']"
            ]
          },
          "metadata": {},
          "execution_count": 71
        }
      ]
    },
    {
      "cell_type": "code",
      "source": [
        "# implementing Bag of words\n",
        "from sklearn.feature_extraction.text import CountVectorizer\n",
        "cv = CountVectorizer(binary=True)"
      ],
      "metadata": {
        "id": "cghfqxE2SIbn"
      },
      "execution_count": 72,
      "outputs": []
    },
    {
      "cell_type": "code",
      "source": [
        "X = cv.fit_transform(corpus_f)"
      ],
      "metadata": {
        "id": "p0wNHGqeS3N-"
      },
      "execution_count": 73,
      "outputs": []
    },
    {
      "cell_type": "code",
      "source": [
        "cv.vocabulary_"
      ],
      "metadata": {
        "colab": {
          "base_uri": "https://localhost:8080/"
        },
        "id": "l8URD3jKTFhs",
        "outputId": "ef97c40e-5f71-4bc3-af53-d45aab531a1f"
      },
      "execution_count": 74,
      "outputs": [
        {
          "output_type": "execute_result",
          "data": {
            "text/plain": [
              "{'elon': 23,\n",
              " 'reeve': 52,\n",
              " 'musk': 42,\n",
              " 'fr': 32,\n",
              " 'ee': 21,\n",
              " 'lon': 38,\n",
              " 'born': 7,\n",
              " 'june': 34,\n",
              " 'businessman': 9,\n",
              " 'known': 35,\n",
              " 'leadership': 37,\n",
              " 'tesla': 59,\n",
              " 'spacex': 57,\n",
              " 'formerly': 30,\n",
              " 'twitter': 60,\n",
              " 'department': 18,\n",
              " 'government': 33,\n",
              " 'efficiency': 22,\n",
              " 'doge': 19,\n",
              " 'considered': 16,\n",
              " 'wealthiest': 64,\n",
              " 'person': 48,\n",
              " 'world': 66,\n",
              " 'since': 54,\n",
              " 'may': 39,\n",
              " 'forbes': 28,\n",
              " 'estimate': 25,\n",
              " 'net': 43,\n",
              " 'worth': 67,\n",
              " 'billion': 6,\n",
              " 'wealthy': 65,\n",
              " 'family': 26,\n",
              " 'pretoria': 49,\n",
              " 'south': 56,\n",
              " 'africa': 1,\n",
              " 'emigrated': 24,\n",
              " 'canada': 11,\n",
              " 'received': 51,\n",
              " 'bachelor': 4,\n",
              " 'degree': 17,\n",
              " 'university': 62,\n",
              " 'pennsylvania': 47,\n",
              " 'moving': 41,\n",
              " 'california': 10,\n",
              " 'united': 61,\n",
              " 'state': 58,\n",
              " 'pursue': 50,\n",
              " 'business': 8,\n",
              " 'venture': 63,\n",
              " 'co': 13,\n",
              " 'founded': 31,\n",
              " 'software': 55,\n",
              " 'company': 15,\n",
              " 'zip': 69,\n",
              " 'following': 27,\n",
              " 'sale': 53,\n",
              " 'com': 14,\n",
              " 'online': 44,\n",
              " 'payment': 45,\n",
              " 'later': 36,\n",
              " 'merged': 40,\n",
              " 'form': 29,\n",
              " 'paypal': 46,\n",
              " 'acquired': 0,\n",
              " 'ebay': 20,\n",
              " 'year': 68,\n",
              " 'also': 2,\n",
              " 'became': 5,\n",
              " 'american': 3,\n",
              " 'citizen': 12}"
            ]
          },
          "metadata": {},
          "execution_count": 74
        }
      ]
    },
    {
      "cell_type": "code",
      "source": [
        "X[0].toarray()"
      ],
      "metadata": {
        "colab": {
          "base_uri": "https://localhost:8080/"
        },
        "id": "xR_P-xJZS7Qs",
        "outputId": "d4cc482d-a003-4f57-ca72-e97dd1eb58ef"
      },
      "execution_count": 75,
      "outputs": [
        {
          "output_type": "execute_result",
          "data": {
            "text/plain": [
              "array([[0, 0, 0, 0, 0, 0, 0, 1, 0, 1, 0, 0, 0, 0, 0, 0, 0, 0, 0, 0, 0, 1,\n",
              "        0, 1, 0, 0, 0, 0, 0, 0, 0, 0, 1, 0, 1, 0, 0, 0, 1, 0, 0, 0, 1, 0,\n",
              "        0, 0, 0, 0, 0, 0, 0, 0, 1, 0, 0, 0, 0, 0, 0, 0, 0, 0, 0, 0, 0, 0,\n",
              "        0, 0, 0, 0]])"
            ]
          },
          "metadata": {},
          "execution_count": 75
        }
      ]
    },
    {
      "cell_type": "code",
      "source": [
        "# implementing ngrams\n",
        "# implementing Bag of words\n",
        "from sklearn.feature_extraction.text import CountVectorizer\n",
        "cv_n = CountVectorizer(binary=True, ngram_range=(2,3)) # this will create bigrams and trigrams"
      ],
      "metadata": {
        "id": "Va0NpI6Smpyt"
      },
      "execution_count": 76,
      "outputs": []
    },
    {
      "cell_type": "code",
      "source": [
        "X = cv_n.fit_transform(corpus_f)"
      ],
      "metadata": {
        "id": "22rRCaUAm1xX"
      },
      "execution_count": 77,
      "outputs": []
    },
    {
      "cell_type": "code",
      "source": [
        "cv_n.vocabulary_"
      ],
      "metadata": {
        "colab": {
          "base_uri": "https://localhost:8080/"
        },
        "id": "bSGgStsNnAt4",
        "outputId": "4c716db1-4739-483e-b090-3a61288fd47f"
      },
      "execution_count": 78,
      "outputs": [
        {
          "output_type": "execute_result",
          "data": {
            "text/plain": [
              "{'elon reeve': 34,\n",
              " 'reeve musk': 100,\n",
              " 'musk fr': 80,\n",
              " 'fr ee': 53,\n",
              " 'ee lon': 31,\n",
              " 'lon born': 64,\n",
              " 'born june': 10,\n",
              " 'june businessman': 57,\n",
              " 'elon reeve musk': 35,\n",
              " 'reeve musk fr': 101,\n",
              " 'musk fr ee': 81,\n",
              " 'fr ee lon': 54,\n",
              " 'ee lon born': 32,\n",
              " 'lon born june': 65,\n",
              " 'born june businessman': 11,\n",
              " 'known leadership': 58,\n",
              " 'leadership tesla': 62,\n",
              " 'tesla spacex': 114,\n",
              " 'spacex formerly': 110,\n",
              " 'formerly twitter': 47,\n",
              " 'twitter department': 116,\n",
              " 'department government': 29,\n",
              " 'government efficiency': 55,\n",
              " 'efficiency doge': 33,\n",
              " 'known leadership tesla': 59,\n",
              " 'leadership tesla spacex': 63,\n",
              " 'tesla spacex formerly': 115,\n",
              " 'spacex formerly twitter': 111,\n",
              " 'formerly twitter department': 48,\n",
              " 'twitter department government': 117,\n",
              " 'department government efficiency': 30,\n",
              " 'government efficiency doge': 56,\n",
              " 'musk considered': 76,\n",
              " 'considered wealthiest': 25,\n",
              " 'wealthiest person': 122,\n",
              " 'person world': 92,\n",
              " 'world since': 126,\n",
              " 'since may': 104,\n",
              " 'may forbes': 66,\n",
              " 'forbes estimate': 43,\n",
              " 'estimate net': 37,\n",
              " 'net worth': 82,\n",
              " 'worth billion': 128,\n",
              " 'musk considered wealthiest': 77,\n",
              " 'considered wealthiest person': 26,\n",
              " 'wealthiest person world': 123,\n",
              " 'person world since': 93,\n",
              " 'world since may': 127,\n",
              " 'since may forbes': 105,\n",
              " 'may forbes estimate': 67,\n",
              " 'forbes estimate net': 44,\n",
              " 'estimate net worth': 38,\n",
              " 'net worth billion': 83,\n",
              " 'born wealthy': 12,\n",
              " 'wealthy family': 124,\n",
              " 'family pretoria': 39,\n",
              " 'pretoria south': 94,\n",
              " 'south africa': 108,\n",
              " 'africa musk': 1,\n",
              " 'musk emigrated': 78,\n",
              " 'emigrated canada': 36,\n",
              " 'born wealthy family': 13,\n",
              " 'wealthy family pretoria': 125,\n",
              " 'family pretoria south': 40,\n",
              " 'pretoria south africa': 95,\n",
              " 'south africa musk': 109,\n",
              " 'africa musk emigrated': 2,\n",
              " 'musk emigrated canada': 79,\n",
              " 'received bachelor': 98,\n",
              " 'bachelor degree': 6,\n",
              " 'degree university': 27,\n",
              " 'university pennsylvania': 120,\n",
              " 'pennsylvania moving': 90,\n",
              " 'moving california': 70,\n",
              " 'california united': 15,\n",
              " 'united state': 118,\n",
              " 'state pursue': 112,\n",
              " 'pursue business': 96,\n",
              " 'business venture': 14,\n",
              " 'received bachelor degree': 99,\n",
              " 'bachelor degree university': 7,\n",
              " 'degree university pennsylvania': 28,\n",
              " 'university pennsylvania moving': 121,\n",
              " 'pennsylvania moving california': 91,\n",
              " 'moving california united': 71,\n",
              " 'california united state': 16,\n",
              " 'united state pursue': 119,\n",
              " 'state pursue business': 113,\n",
              " 'pursue business venture': 97,\n",
              " 'musk co': 74,\n",
              " 'co founded': 17,\n",
              " 'founded software': 51,\n",
              " 'software company': 106,\n",
              " 'company zip': 24,\n",
              " 'musk co founded': 75,\n",
              " 'co founded software': 19,\n",
              " 'founded software company': 52,\n",
              " 'software company zip': 107,\n",
              " 'following sale': 41,\n",
              " 'sale co': 102,\n",
              " 'founded com': 49,\n",
              " 'com online': 20,\n",
              " 'online payment': 84,\n",
              " 'payment company': 86,\n",
              " 'company later': 22,\n",
              " 'later merged': 60,\n",
              " 'merged form': 68,\n",
              " 'form paypal': 45,\n",
              " 'paypal acquired': 88,\n",
              " 'acquired ebay': 0,\n",
              " 'following sale co': 42,\n",
              " 'sale co founded': 103,\n",
              " 'co founded com': 18,\n",
              " 'founded com online': 50,\n",
              " 'com online payment': 21,\n",
              " 'online payment company': 85,\n",
              " 'payment company later': 87,\n",
              " 'company later merged': 23,\n",
              " 'later merged form': 61,\n",
              " 'merged form paypal': 69,\n",
              " 'form paypal acquired': 46,\n",
              " 'paypal acquired ebay': 89,\n",
              " 'year musk': 129,\n",
              " 'musk also': 72,\n",
              " 'also became': 3,\n",
              " 'became american': 8,\n",
              " 'american citizen': 5,\n",
              " 'year musk also': 130,\n",
              " 'musk also became': 73,\n",
              " 'also became american': 4,\n",
              " 'became american citizen': 9}"
            ]
          },
          "metadata": {},
          "execution_count": 78
        }
      ]
    },
    {
      "cell_type": "code",
      "source": [
        "X[0].toarray()"
      ],
      "metadata": {
        "colab": {
          "base_uri": "https://localhost:8080/"
        },
        "id": "Jb-sixZCnDBi",
        "outputId": "d4e551ac-c94b-4d49-a3ca-ffc0a04331b1"
      },
      "execution_count": 79,
      "outputs": [
        {
          "output_type": "execute_result",
          "data": {
            "text/plain": [
              "array([[0, 0, 0, 0, 0, 0, 0, 0, 0, 0, 1, 1, 0, 0, 0, 0, 0, 0, 0, 0, 0, 0,\n",
              "        0, 0, 0, 0, 0, 0, 0, 0, 0, 1, 1, 0, 1, 1, 0, 0, 0, 0, 0, 0, 0, 0,\n",
              "        0, 0, 0, 0, 0, 0, 0, 0, 0, 1, 1, 0, 0, 1, 0, 0, 0, 0, 0, 0, 1, 1,\n",
              "        0, 0, 0, 0, 0, 0, 0, 0, 0, 0, 0, 0, 0, 0, 1, 1, 0, 0, 0, 0, 0, 0,\n",
              "        0, 0, 0, 0, 0, 0, 0, 0, 0, 0, 0, 0, 1, 1, 0, 0, 0, 0, 0, 0, 0, 0,\n",
              "        0, 0, 0, 0, 0, 0, 0, 0, 0, 0, 0, 0, 0, 0, 0, 0, 0, 0, 0, 0, 0]])"
            ]
          },
          "metadata": {},
          "execution_count": 79
        }
      ]
    },
    {
      "cell_type": "code",
      "source": [
        "# Implementing TF-IDF\n",
        "from sklearn.feature_extraction.text import TfidfVectorizer\n",
        "tfidf = TfidfVectorizer(ngram_range=(2,3) ) # max_features = 2) # the max_features takes only top performing words frequency"
      ],
      "metadata": {
        "id": "jB8FkAODS_HL"
      },
      "execution_count": 86,
      "outputs": []
    },
    {
      "cell_type": "code",
      "source": [
        "X = tfidf.fit_transform(corpus_f)"
      ],
      "metadata": {
        "id": "Iuc9BMBVnfyJ"
      },
      "execution_count": 87,
      "outputs": []
    },
    {
      "cell_type": "code",
      "source": [
        "tfidf.vocabulary_"
      ],
      "metadata": {
        "colab": {
          "base_uri": "https://localhost:8080/"
        },
        "id": "OsvNWUsanmpA",
        "outputId": "f1d59df1-05f2-4a10-a53b-64ecfcde65bb"
      },
      "execution_count": 88,
      "outputs": [
        {
          "output_type": "execute_result",
          "data": {
            "text/plain": [
              "{'elon reeve': 34,\n",
              " 'reeve musk': 100,\n",
              " 'musk fr': 80,\n",
              " 'fr ee': 53,\n",
              " 'ee lon': 31,\n",
              " 'lon born': 64,\n",
              " 'born june': 10,\n",
              " 'june businessman': 57,\n",
              " 'elon reeve musk': 35,\n",
              " 'reeve musk fr': 101,\n",
              " 'musk fr ee': 81,\n",
              " 'fr ee lon': 54,\n",
              " 'ee lon born': 32,\n",
              " 'lon born june': 65,\n",
              " 'born june businessman': 11,\n",
              " 'known leadership': 58,\n",
              " 'leadership tesla': 62,\n",
              " 'tesla spacex': 114,\n",
              " 'spacex formerly': 110,\n",
              " 'formerly twitter': 47,\n",
              " 'twitter department': 116,\n",
              " 'department government': 29,\n",
              " 'government efficiency': 55,\n",
              " 'efficiency doge': 33,\n",
              " 'known leadership tesla': 59,\n",
              " 'leadership tesla spacex': 63,\n",
              " 'tesla spacex formerly': 115,\n",
              " 'spacex formerly twitter': 111,\n",
              " 'formerly twitter department': 48,\n",
              " 'twitter department government': 117,\n",
              " 'department government efficiency': 30,\n",
              " 'government efficiency doge': 56,\n",
              " 'musk considered': 76,\n",
              " 'considered wealthiest': 25,\n",
              " 'wealthiest person': 122,\n",
              " 'person world': 92,\n",
              " 'world since': 126,\n",
              " 'since may': 104,\n",
              " 'may forbes': 66,\n",
              " 'forbes estimate': 43,\n",
              " 'estimate net': 37,\n",
              " 'net worth': 82,\n",
              " 'worth billion': 128,\n",
              " 'musk considered wealthiest': 77,\n",
              " 'considered wealthiest person': 26,\n",
              " 'wealthiest person world': 123,\n",
              " 'person world since': 93,\n",
              " 'world since may': 127,\n",
              " 'since may forbes': 105,\n",
              " 'may forbes estimate': 67,\n",
              " 'forbes estimate net': 44,\n",
              " 'estimate net worth': 38,\n",
              " 'net worth billion': 83,\n",
              " 'born wealthy': 12,\n",
              " 'wealthy family': 124,\n",
              " 'family pretoria': 39,\n",
              " 'pretoria south': 94,\n",
              " 'south africa': 108,\n",
              " 'africa musk': 1,\n",
              " 'musk emigrated': 78,\n",
              " 'emigrated canada': 36,\n",
              " 'born wealthy family': 13,\n",
              " 'wealthy family pretoria': 125,\n",
              " 'family pretoria south': 40,\n",
              " 'pretoria south africa': 95,\n",
              " 'south africa musk': 109,\n",
              " 'africa musk emigrated': 2,\n",
              " 'musk emigrated canada': 79,\n",
              " 'received bachelor': 98,\n",
              " 'bachelor degree': 6,\n",
              " 'degree university': 27,\n",
              " 'university pennsylvania': 120,\n",
              " 'pennsylvania moving': 90,\n",
              " 'moving california': 70,\n",
              " 'california united': 15,\n",
              " 'united state': 118,\n",
              " 'state pursue': 112,\n",
              " 'pursue business': 96,\n",
              " 'business venture': 14,\n",
              " 'received bachelor degree': 99,\n",
              " 'bachelor degree university': 7,\n",
              " 'degree university pennsylvania': 28,\n",
              " 'university pennsylvania moving': 121,\n",
              " 'pennsylvania moving california': 91,\n",
              " 'moving california united': 71,\n",
              " 'california united state': 16,\n",
              " 'united state pursue': 119,\n",
              " 'state pursue business': 113,\n",
              " 'pursue business venture': 97,\n",
              " 'musk co': 74,\n",
              " 'co founded': 17,\n",
              " 'founded software': 51,\n",
              " 'software company': 106,\n",
              " 'company zip': 24,\n",
              " 'musk co founded': 75,\n",
              " 'co founded software': 19,\n",
              " 'founded software company': 52,\n",
              " 'software company zip': 107,\n",
              " 'following sale': 41,\n",
              " 'sale co': 102,\n",
              " 'founded com': 49,\n",
              " 'com online': 20,\n",
              " 'online payment': 84,\n",
              " 'payment company': 86,\n",
              " 'company later': 22,\n",
              " 'later merged': 60,\n",
              " 'merged form': 68,\n",
              " 'form paypal': 45,\n",
              " 'paypal acquired': 88,\n",
              " 'acquired ebay': 0,\n",
              " 'following sale co': 42,\n",
              " 'sale co founded': 103,\n",
              " 'co founded com': 18,\n",
              " 'founded com online': 50,\n",
              " 'com online payment': 21,\n",
              " 'online payment company': 85,\n",
              " 'payment company later': 87,\n",
              " 'company later merged': 23,\n",
              " 'later merged form': 61,\n",
              " 'merged form paypal': 69,\n",
              " 'form paypal acquired': 46,\n",
              " 'paypal acquired ebay': 89,\n",
              " 'year musk': 129,\n",
              " 'musk also': 72,\n",
              " 'also became': 3,\n",
              " 'became american': 8,\n",
              " 'american citizen': 5,\n",
              " 'year musk also': 130,\n",
              " 'musk also became': 73,\n",
              " 'also became american': 4,\n",
              " 'became american citizen': 9}"
            ]
          },
          "metadata": {},
          "execution_count": 88
        }
      ]
    },
    {
      "cell_type": "code",
      "source": [
        "X.toarray()"
      ],
      "metadata": {
        "colab": {
          "base_uri": "https://localhost:8080/"
        },
        "id": "qbWvFCjdnpIu",
        "outputId": "168c6b36-9060-4609-8cdb-cf4362bfe1ab"
      },
      "execution_count": 89,
      "outputs": [
        {
          "output_type": "execute_result",
          "data": {
            "text/plain": [
              "array([[0.        , 0.        , 0.        , ..., 0.        , 0.        ,\n",
              "        0.        ],\n",
              "       [0.        , 0.        , 0.        , ..., 0.        , 0.        ,\n",
              "        0.        ],\n",
              "       [0.        , 0.        , 0.        , ..., 0.21821789, 0.        ,\n",
              "        0.        ],\n",
              "       ...,\n",
              "       [0.        , 0.        , 0.        , ..., 0.        , 0.        ,\n",
              "        0.        ],\n",
              "       [0.20120124, 0.        , 0.        , ..., 0.        , 0.        ,\n",
              "        0.        ],\n",
              "       [0.        , 0.        , 0.        , ..., 0.        , 0.33333333,\n",
              "        0.33333333]])"
            ]
          },
          "metadata": {},
          "execution_count": 89
        }
      ]
    },
    {
      "cell_type": "code",
      "source": [],
      "metadata": {
        "id": "eqZVZb-PoeXQ"
      },
      "execution_count": 83,
      "outputs": []
    }
  ]
}